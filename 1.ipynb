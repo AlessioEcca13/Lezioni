{
 "cells": [
  {
   "cell_type": "markdown",
   "metadata": {},
   "source": [
    "*Contenuti*\n",
    "===\n",
    "- [Info](#Info)\n",
    "    - [Hello, world!](#Hello,-world!)"
   ]
  },
  {
   "cell_type": "code",
   "execution_count": 32,
   "metadata": {},
   "outputs": [],
   "source": [
    "import pandas as pd"
   ]
  },
  {
   "cell_type": "markdown",
   "metadata": {},
   "source": [
    "Abbiamo importato **Pandas**, la libreria Python di manipolazione dati. La sfrutteremo per analizzare dati di consumo elettrico."
   ]
  },
  {
   "cell_type": "markdown",
   "metadata": {},
   "source": [
    "Il dataset OPSD\n",
    "---\n",
    "\n",
    "<img src='img/OPSD.png' width=250/>\n",
    "\n",
    "<br>\n",
    "\n",
    "Il dataset **OPSD_Germany_consumption** riporta il consumo elettrico totale tedesco (in GWh), dal 2006 al 2017. Questi dati fanno parte del progetto OPSD: https://open-power-system-data.org/.\n",
    "\n",
    "\n",
    "\n",
    "Iniziamo caricando il dataset in formato *dataframe*, la struttura dati base di Pandas. L'unico argomento obbligatorio della funzione *read_csv* è il path del file .csv che vogliamo caricare. Le funzioni *head* e *tail* mostrano rispettivamente i primi e ultimi record (5 di default) del dataframe."
   ]
  },
  {
   "cell_type": "code",
   "execution_count": 33,
   "metadata": {},
   "outputs": [
    {
     "data": {
      "text/html": [
       "<div>\n",
       "<style scoped>\n",
       "    .dataframe tbody tr th:only-of-type {\n",
       "        vertical-align: middle;\n",
       "    }\n",
       "\n",
       "    .dataframe tbody tr th {\n",
       "        vertical-align: top;\n",
       "    }\n",
       "\n",
       "    .dataframe thead th {\n",
       "        text-align: right;\n",
       "    }\n",
       "</style>\n",
       "<table border=\"1\" class=\"dataframe\">\n",
       "  <thead>\n",
       "    <tr style=\"text-align: right;\">\n",
       "      <th></th>\n",
       "      <th>Date</th>\n",
       "      <th>Consumption</th>\n",
       "    </tr>\n",
       "  </thead>\n",
       "  <tbody>\n",
       "    <tr>\n",
       "      <th>0</th>\n",
       "      <td>2006-01-01</td>\n",
       "      <td>1069.184</td>\n",
       "    </tr>\n",
       "    <tr>\n",
       "      <th>1</th>\n",
       "      <td>2006-01-02</td>\n",
       "      <td>1380.521</td>\n",
       "    </tr>\n",
       "    <tr>\n",
       "      <th>2</th>\n",
       "      <td>2006-01-03</td>\n",
       "      <td>1442.533</td>\n",
       "    </tr>\n",
       "    <tr>\n",
       "      <th>3</th>\n",
       "      <td>2006-01-04</td>\n",
       "      <td>1457.217</td>\n",
       "    </tr>\n",
       "    <tr>\n",
       "      <th>4</th>\n",
       "      <td>2006-01-05</td>\n",
       "      <td>1477.131</td>\n",
       "    </tr>\n",
       "  </tbody>\n",
       "</table>\n",
       "</div>"
      ],
      "text/plain": [
       "         Date  Consumption\n",
       "0  2006-01-01     1069.184\n",
       "1  2006-01-02     1380.521\n",
       "2  2006-01-03     1442.533\n",
       "3  2006-01-04     1457.217\n",
       "4  2006-01-05     1477.131"
      ]
     },
     "execution_count": 33,
     "metadata": {},
     "output_type": "execute_result"
    }
   ],
   "source": [
    "df = pd.read_csv('../data/OPSD_Germany_consumption.csv')\n",
    "df.head()"
   ]
  },
  {
   "cell_type": "code",
   "execution_count": 34,
   "metadata": {},
   "outputs": [
    {
     "data": {
      "text/html": [
       "<div>\n",
       "<style scoped>\n",
       "    .dataframe tbody tr th:only-of-type {\n",
       "        vertical-align: middle;\n",
       "    }\n",
       "\n",
       "    .dataframe tbody tr th {\n",
       "        vertical-align: top;\n",
       "    }\n",
       "\n",
       "    .dataframe thead th {\n",
       "        text-align: right;\n",
       "    }\n",
       "</style>\n",
       "<table border=\"1\" class=\"dataframe\">\n",
       "  <thead>\n",
       "    <tr style=\"text-align: right;\">\n",
       "      <th></th>\n",
       "      <th>Date</th>\n",
       "      <th>Consumption</th>\n",
       "    </tr>\n",
       "  </thead>\n",
       "  <tbody>\n",
       "    <tr>\n",
       "      <th>4378</th>\n",
       "      <td>2017-12-27</td>\n",
       "      <td>1263.94091</td>\n",
       "    </tr>\n",
       "    <tr>\n",
       "      <th>4379</th>\n",
       "      <td>2017-12-28</td>\n",
       "      <td>1299.86398</td>\n",
       "    </tr>\n",
       "    <tr>\n",
       "      <th>4380</th>\n",
       "      <td>2017-12-29</td>\n",
       "      <td>1295.08753</td>\n",
       "    </tr>\n",
       "    <tr>\n",
       "      <th>4381</th>\n",
       "      <td>2017-12-30</td>\n",
       "      <td>1215.44897</td>\n",
       "    </tr>\n",
       "    <tr>\n",
       "      <th>4382</th>\n",
       "      <td>2017-12-31</td>\n",
       "      <td>1107.11488</td>\n",
       "    </tr>\n",
       "  </tbody>\n",
       "</table>\n",
       "</div>"
      ],
      "text/plain": [
       "            Date  Consumption\n",
       "4378  2017-12-27   1263.94091\n",
       "4379  2017-12-28   1299.86398\n",
       "4380  2017-12-29   1295.08753\n",
       "4381  2017-12-30   1215.44897\n",
       "4382  2017-12-31   1107.11488"
      ]
     },
     "execution_count": 34,
     "metadata": {},
     "output_type": "execute_result"
    }
   ],
   "source": [
    "df.tail()"
   ]
  },
  {
   "cell_type": "code",
   "execution_count": 35,
   "metadata": {},
   "outputs": [
    {
     "data": {
      "text/plain": [
       "(4383, 2)"
      ]
     },
     "execution_count": 35,
     "metadata": {},
     "output_type": "execute_result"
    }
   ],
   "source": [
    "df.shape"
   ]
  },
  {
   "cell_type": "markdown",
   "metadata": {},
   "source": [
    "Pandas eredita la funzione *shape* da NumPy. Il dataframe contiene 4383 record: per ogni riga, oltre all'informazione di consumo, è disponibile la data a cui essa fa riferimento.\n",
    "\n",
    "Notiamo che Pandas, all'atto del caricamento, dota il dataframe di una struttura di indici. Attraverso la sintassi\n",
    "\n",
    "        df.loc[position]\n",
    "        \n",
    "è possibile accedere all'elemento che si trova all'indice *position*."
   ]
  },
  {
   "cell_type": "code",
   "execution_count": 36,
   "metadata": {},
   "outputs": [
    {
     "data": {
      "text/plain": [
       "Date           2006-01-04\n",
       "Consumption       1457.22\n",
       "Name: 3, dtype: object"
      ]
     },
     "execution_count": 36,
     "metadata": {},
     "output_type": "execute_result"
    }
   ],
   "source": [
    "df.loc[3]"
   ]
  },
  {
   "cell_type": "markdown",
   "metadata": {},
   "source": [
    "Siamo abituati ad associare le colonne di un dataset alle *feature*. Consideriamo la colonna 'Date': è una colonna speciale? Che ruolo può avere nel machine learning? \n",
    "\n",
    "Diamo un'occhiata al suo contenuto."
   ]
  },
  {
   "cell_type": "code",
   "execution_count": 37,
   "metadata": {},
   "outputs": [
    {
     "data": {
      "text/plain": [
       "dtype('O')"
      ]
     },
     "execution_count": 37,
     "metadata": {},
     "output_type": "execute_result"
    }
   ],
   "source": [
    "df['Date'].dtype"
   ]
  },
  {
   "cell_type": "markdown",
   "metadata": {},
   "source": [
    "In Pandas il tipo 'O' sta per *Object*: in generale, una stringa."
   ]
  },
  {
   "cell_type": "code",
   "execution_count": 38,
   "metadata": {},
   "outputs": [
    {
     "data": {
      "text/plain": [
       "'2006-01-01'"
      ]
     },
     "execution_count": 38,
     "metadata": {},
     "output_type": "execute_result"
    }
   ],
   "source": [
    "df['Date'].loc[0]"
   ]
  },
  {
   "cell_type": "markdown",
   "metadata": {},
   "source": [
    "Notiamo quindi che Pandas ha caricato i record di questa colonna come semplici stringhe.\n",
    "\n",
    "La funzione *to_datatime* trasforma una stringa in un oggetto dotato di logica temporale."
   ]
  },
  {
   "cell_type": "code",
   "execution_count": 39,
   "metadata": {},
   "outputs": [
    {
     "data": {
      "text/plain": [
       "Timestamp('2009-10-02 00:00:00')"
      ]
     },
     "execution_count": 39,
     "metadata": {},
     "output_type": "execute_result"
    }
   ],
   "source": [
    "pd.to_datetime('10-02-09')"
   ]
  },
  {
   "cell_type": "markdown",
   "metadata": {},
   "source": [
    "La funzione ha provato a inferire autonomamente il formato della data: 2 ottobre 2009. Attraverso gli argomenti opzionali è possibile guidare la trasformazione."
   ]
  },
  {
   "cell_type": "code",
   "execution_count": 40,
   "metadata": {},
   "outputs": [
    {
     "data": {
      "text/plain": [
       "Timestamp('2010-02-09 00:00:00')"
      ]
     },
     "execution_count": 40,
     "metadata": {},
     "output_type": "execute_result"
    }
   ],
   "source": [
    "pd.to_datetime('10-02-09', yearfirst=True)"
   ]
  },
  {
   "cell_type": "code",
   "execution_count": 41,
   "metadata": {},
   "outputs": [
    {
     "data": {
      "text/plain": [
       "Timestamp('2009-02-10 00:00:00')"
      ]
     },
     "execution_count": 41,
     "metadata": {},
     "output_type": "execute_result"
    }
   ],
   "source": [
    "pd.to_datetime('10-02-09', dayfirst=True)"
   ]
  },
  {
   "cell_type": "markdown",
   "metadata": {},
   "source": [
    "La funzione gestisce formati diversi. "
   ]
  },
  {
   "cell_type": "code",
   "execution_count": 42,
   "metadata": {},
   "outputs": [
    {
     "data": {
      "text/plain": [
       "Timestamp('2019-01-03 00:00:00')"
      ]
     },
     "execution_count": 42,
     "metadata": {},
     "output_type": "execute_result"
    }
   ],
   "source": [
    "pd.to_datetime('Jan 3 2019')"
   ]
  },
  {
   "cell_type": "markdown",
   "metadata": {},
   "source": [
    "Oltre ad una singola stringa possiamo convertire liste di stringhe; ad esempio, possiamo trasformare l'intera colonna Date."
   ]
  },
  {
   "cell_type": "code",
   "execution_count": 43,
   "metadata": {},
   "outputs": [
    {
     "data": {
      "text/html": [
       "<div>\n",
       "<style scoped>\n",
       "    .dataframe tbody tr th:only-of-type {\n",
       "        vertical-align: middle;\n",
       "    }\n",
       "\n",
       "    .dataframe tbody tr th {\n",
       "        vertical-align: top;\n",
       "    }\n",
       "\n",
       "    .dataframe thead th {\n",
       "        text-align: right;\n",
       "    }\n",
       "</style>\n",
       "<table border=\"1\" class=\"dataframe\">\n",
       "  <thead>\n",
       "    <tr style=\"text-align: right;\">\n",
       "      <th></th>\n",
       "      <th>Date</th>\n",
       "      <th>Consumption</th>\n",
       "    </tr>\n",
       "  </thead>\n",
       "  <tbody>\n",
       "    <tr>\n",
       "      <th>0</th>\n",
       "      <td>2006-01-01</td>\n",
       "      <td>1069.184</td>\n",
       "    </tr>\n",
       "    <tr>\n",
       "      <th>1</th>\n",
       "      <td>2006-01-02</td>\n",
       "      <td>1380.521</td>\n",
       "    </tr>\n",
       "    <tr>\n",
       "      <th>2</th>\n",
       "      <td>2006-01-03</td>\n",
       "      <td>1442.533</td>\n",
       "    </tr>\n",
       "    <tr>\n",
       "      <th>3</th>\n",
       "      <td>2006-01-04</td>\n",
       "      <td>1457.217</td>\n",
       "    </tr>\n",
       "    <tr>\n",
       "      <th>4</th>\n",
       "      <td>2006-01-05</td>\n",
       "      <td>1477.131</td>\n",
       "    </tr>\n",
       "  </tbody>\n",
       "</table>\n",
       "</div>"
      ],
      "text/plain": [
       "        Date  Consumption\n",
       "0 2006-01-01     1069.184\n",
       "1 2006-01-02     1380.521\n",
       "2 2006-01-03     1442.533\n",
       "3 2006-01-04     1457.217\n",
       "4 2006-01-05     1477.131"
      ]
     },
     "execution_count": 43,
     "metadata": {},
     "output_type": "execute_result"
    }
   ],
   "source": [
    "df['Date'] = pd.to_datetime(df['Date'])\n",
    "\n",
    "df.head()"
   ]
  },
  {
   "cell_type": "markdown",
   "metadata": {},
   "source": [
    "A prima vista non è cambiato niente. Controlliamo meglio: di che tipo è la colonna trasformata?"
   ]
  },
  {
   "cell_type": "code",
   "execution_count": 44,
   "metadata": {},
   "outputs": [
    {
     "data": {
      "text/plain": [
       "Date           datetime64[ns]\n",
       "Consumption           float64\n",
       "dtype: object"
      ]
     },
     "execution_count": 44,
     "metadata": {},
     "output_type": "execute_result"
    }
   ],
   "source": [
    "df.dtypes"
   ]
  },
  {
   "cell_type": "markdown",
   "metadata": {},
   "source": [
    "Perché il tipo ha questo nome? Python considera gli oggetti temporali come interi a 64 bit, in modo tale da poter gestire la precisione fino al nanosecondo (ns).\n",
    "\n",
    "Siamo interessati ad analizzare i consumi *nel tempo*. La colonna Date può essere usata come indice."
   ]
  },
  {
   "cell_type": "code",
   "execution_count": 45,
   "metadata": {},
   "outputs": [
    {
     "data": {
      "text/html": [
       "<div>\n",
       "<style scoped>\n",
       "    .dataframe tbody tr th:only-of-type {\n",
       "        vertical-align: middle;\n",
       "    }\n",
       "\n",
       "    .dataframe tbody tr th {\n",
       "        vertical-align: top;\n",
       "    }\n",
       "\n",
       "    .dataframe thead th {\n",
       "        text-align: right;\n",
       "    }\n",
       "</style>\n",
       "<table border=\"1\" class=\"dataframe\">\n",
       "  <thead>\n",
       "    <tr style=\"text-align: right;\">\n",
       "      <th></th>\n",
       "      <th>Consumption</th>\n",
       "    </tr>\n",
       "    <tr>\n",
       "      <th>Date</th>\n",
       "      <th></th>\n",
       "    </tr>\n",
       "  </thead>\n",
       "  <tbody>\n",
       "    <tr>\n",
       "      <th>2006-01-01</th>\n",
       "      <td>1069.184</td>\n",
       "    </tr>\n",
       "    <tr>\n",
       "      <th>2006-01-02</th>\n",
       "      <td>1380.521</td>\n",
       "    </tr>\n",
       "    <tr>\n",
       "      <th>2006-01-03</th>\n",
       "      <td>1442.533</td>\n",
       "    </tr>\n",
       "    <tr>\n",
       "      <th>2006-01-04</th>\n",
       "      <td>1457.217</td>\n",
       "    </tr>\n",
       "    <tr>\n",
       "      <th>2006-01-05</th>\n",
       "      <td>1477.131</td>\n",
       "    </tr>\n",
       "  </tbody>\n",
       "</table>\n",
       "</div>"
      ],
      "text/plain": [
       "            Consumption\n",
       "Date                   \n",
       "2006-01-01     1069.184\n",
       "2006-01-02     1380.521\n",
       "2006-01-03     1442.533\n",
       "2006-01-04     1457.217\n",
       "2006-01-05     1477.131"
      ]
     },
     "execution_count": 45,
     "metadata": {},
     "output_type": "execute_result"
    }
   ],
   "source": [
    "df.set_index('Date').head()"
   ]
  },
  {
   "cell_type": "code",
   "execution_count": 46,
   "metadata": {},
   "outputs": [
    {
     "data": {
      "text/html": [
       "<div>\n",
       "<style scoped>\n",
       "    .dataframe tbody tr th:only-of-type {\n",
       "        vertical-align: middle;\n",
       "    }\n",
       "\n",
       "    .dataframe tbody tr th {\n",
       "        vertical-align: top;\n",
       "    }\n",
       "\n",
       "    .dataframe thead th {\n",
       "        text-align: right;\n",
       "    }\n",
       "</style>\n",
       "<table border=\"1\" class=\"dataframe\">\n",
       "  <thead>\n",
       "    <tr style=\"text-align: right;\">\n",
       "      <th></th>\n",
       "      <th>Date</th>\n",
       "      <th>Consumption</th>\n",
       "    </tr>\n",
       "  </thead>\n",
       "  <tbody>\n",
       "    <tr>\n",
       "      <th>0</th>\n",
       "      <td>2006-01-01</td>\n",
       "      <td>1069.184</td>\n",
       "    </tr>\n",
       "    <tr>\n",
       "      <th>1</th>\n",
       "      <td>2006-01-02</td>\n",
       "      <td>1380.521</td>\n",
       "    </tr>\n",
       "    <tr>\n",
       "      <th>2</th>\n",
       "      <td>2006-01-03</td>\n",
       "      <td>1442.533</td>\n",
       "    </tr>\n",
       "    <tr>\n",
       "      <th>3</th>\n",
       "      <td>2006-01-04</td>\n",
       "      <td>1457.217</td>\n",
       "    </tr>\n",
       "    <tr>\n",
       "      <th>4</th>\n",
       "      <td>2006-01-05</td>\n",
       "      <td>1477.131</td>\n",
       "    </tr>\n",
       "  </tbody>\n",
       "</table>\n",
       "</div>"
      ],
      "text/plain": [
       "        Date  Consumption\n",
       "0 2006-01-01     1069.184\n",
       "1 2006-01-02     1380.521\n",
       "2 2006-01-03     1442.533\n",
       "3 2006-01-04     1457.217\n",
       "4 2006-01-05     1477.131"
      ]
     },
     "execution_count": 46,
     "metadata": {},
     "output_type": "execute_result"
    }
   ],
   "source": [
    "df.head()"
   ]
  },
  {
   "cell_type": "markdown",
   "metadata": {},
   "source": [
    "Attenzione: quasi tutte le funzioni Pandas restituiscono una copia dell'oggetto che costruiscono. Perché le modifiche abbiano effetto occorre sovrascrivere il dataframe di partenza (oppure assegnare il risultato ad un nuovo dataframe)."
   ]
  },
  {
   "cell_type": "code",
   "execution_count": 47,
   "metadata": {},
   "outputs": [
    {
     "data": {
      "text/html": [
       "<div>\n",
       "<style scoped>\n",
       "    .dataframe tbody tr th:only-of-type {\n",
       "        vertical-align: middle;\n",
       "    }\n",
       "\n",
       "    .dataframe tbody tr th {\n",
       "        vertical-align: top;\n",
       "    }\n",
       "\n",
       "    .dataframe thead th {\n",
       "        text-align: right;\n",
       "    }\n",
       "</style>\n",
       "<table border=\"1\" class=\"dataframe\">\n",
       "  <thead>\n",
       "    <tr style=\"text-align: right;\">\n",
       "      <th></th>\n",
       "      <th>Consumption</th>\n",
       "    </tr>\n",
       "    <tr>\n",
       "      <th>Date</th>\n",
       "      <th></th>\n",
       "    </tr>\n",
       "  </thead>\n",
       "  <tbody>\n",
       "    <tr>\n",
       "      <th>2006-01-01</th>\n",
       "      <td>1069.184</td>\n",
       "    </tr>\n",
       "    <tr>\n",
       "      <th>2006-01-02</th>\n",
       "      <td>1380.521</td>\n",
       "    </tr>\n",
       "    <tr>\n",
       "      <th>2006-01-03</th>\n",
       "      <td>1442.533</td>\n",
       "    </tr>\n",
       "    <tr>\n",
       "      <th>2006-01-04</th>\n",
       "      <td>1457.217</td>\n",
       "    </tr>\n",
       "    <tr>\n",
       "      <th>2006-01-05</th>\n",
       "      <td>1477.131</td>\n",
       "    </tr>\n",
       "  </tbody>\n",
       "</table>\n",
       "</div>"
      ],
      "text/plain": [
       "            Consumption\n",
       "Date                   \n",
       "2006-01-01     1069.184\n",
       "2006-01-02     1380.521\n",
       "2006-01-03     1442.533\n",
       "2006-01-04     1457.217\n",
       "2006-01-05     1477.131"
      ]
     },
     "execution_count": 47,
     "metadata": {},
     "output_type": "execute_result"
    }
   ],
   "source": [
    "df = df.set_index('Date')\n",
    "\n",
    "df.head()"
   ]
  },
  {
   "cell_type": "markdown",
   "metadata": {},
   "source": [
    "Adesso df è correttamente indicizzato dalla colonna Date. Guardiamo come è fatto questo nuovo indice."
   ]
  },
  {
   "cell_type": "code",
   "execution_count": 48,
   "metadata": {},
   "outputs": [
    {
     "data": {
      "text/plain": [
       "DatetimeIndex(['2006-01-01', '2006-01-02', '2006-01-03', '2006-01-04',\n",
       "               '2006-01-05', '2006-01-06', '2006-01-07', '2006-01-08',\n",
       "               '2006-01-09', '2006-01-10',\n",
       "               ...\n",
       "               '2017-12-22', '2017-12-23', '2017-12-24', '2017-12-25',\n",
       "               '2017-12-26', '2017-12-27', '2017-12-28', '2017-12-29',\n",
       "               '2017-12-30', '2017-12-31'],\n",
       "              dtype='datetime64[ns]', name='Date', length=4383, freq=None)"
      ]
     },
     "execution_count": 48,
     "metadata": {},
     "output_type": "execute_result"
    }
   ],
   "source": [
    "df.index"
   ]
  },
  {
   "cell_type": "markdown",
   "metadata": {},
   "source": [
    "*DatetimeIndex* è un indice particolare di Pandas, con delle proprietà specifiche."
   ]
  },
  {
   "cell_type": "code",
   "execution_count": 49,
   "metadata": {},
   "outputs": [
    {
     "data": {
      "text/plain": [
       "Int64Index([2006, 2006, 2006, 2006, 2006, 2006, 2006, 2006, 2006, 2006,\n",
       "            ...\n",
       "            2017, 2017, 2017, 2017, 2017, 2017, 2017, 2017, 2017, 2017],\n",
       "           dtype='int64', name='Date', length=4383)"
      ]
     },
     "execution_count": 49,
     "metadata": {},
     "output_type": "execute_result"
    }
   ],
   "source": [
    "df.index.year"
   ]
  },
  {
   "cell_type": "code",
   "execution_count": 50,
   "metadata": {},
   "outputs": [
    {
     "data": {
      "text/plain": [
       "Int64Index([ 1,  2,  3,  4,  5,  6,  7,  8,  9, 10,\n",
       "            ...\n",
       "            22, 23, 24, 25, 26, 27, 28, 29, 30, 31],\n",
       "           dtype='int64', name='Date', length=4383)"
      ]
     },
     "execution_count": 50,
     "metadata": {},
     "output_type": "execute_result"
    }
   ],
   "source": [
    "df.index.day"
   ]
  },
  {
   "cell_type": "markdown",
   "metadata": {},
   "source": [
    "Ricordiamoci in generale che l'indice, anche se speciale, è comunque una colonna del dataframe: ad ogni suo valore corrisponde uno e un solo record.\n",
    "\n",
    "Prima di esplorare l'indicizzazione temporale facciamo un passo indietro. Attraverso la funzione read_csv è possibile caricare il dataframe gestendo direttamente l'indicizzazione temporale.\n",
    "\n",
    "Ricordiamoci che è sempre possibile accedere alla documentazione di una funzione attraverso la sequenza\n",
    "\n",
    "    Shift Tab (Tab Tab)\n",
    "    \n",
    "eseguita col cursore posizionato accanto al nome della funzione. Tra gli argomenti opzionali di read_csv troviamo:\n",
    "\n",
    "- parse_dates\n",
    "- index_col\n",
    "\n",
    "che automatizzano quanto visto in precedenza."
   ]
  },
  {
   "cell_type": "code",
   "execution_count": 51,
   "metadata": {},
   "outputs": [
    {
     "data": {
      "text/html": [
       "<div>\n",
       "<style scoped>\n",
       "    .dataframe tbody tr th:only-of-type {\n",
       "        vertical-align: middle;\n",
       "    }\n",
       "\n",
       "    .dataframe tbody tr th {\n",
       "        vertical-align: top;\n",
       "    }\n",
       "\n",
       "    .dataframe thead th {\n",
       "        text-align: right;\n",
       "    }\n",
       "</style>\n",
       "<table border=\"1\" class=\"dataframe\">\n",
       "  <thead>\n",
       "    <tr style=\"text-align: right;\">\n",
       "      <th></th>\n",
       "      <th>Consumption</th>\n",
       "    </tr>\n",
       "    <tr>\n",
       "      <th>Date</th>\n",
       "      <th></th>\n",
       "    </tr>\n",
       "  </thead>\n",
       "  <tbody>\n",
       "    <tr>\n",
       "      <th>2006-01-01</th>\n",
       "      <td>1069.184</td>\n",
       "    </tr>\n",
       "    <tr>\n",
       "      <th>2006-01-02</th>\n",
       "      <td>1380.521</td>\n",
       "    </tr>\n",
       "    <tr>\n",
       "      <th>2006-01-03</th>\n",
       "      <td>1442.533</td>\n",
       "    </tr>\n",
       "    <tr>\n",
       "      <th>2006-01-04</th>\n",
       "      <td>1457.217</td>\n",
       "    </tr>\n",
       "    <tr>\n",
       "      <th>2006-01-05</th>\n",
       "      <td>1477.131</td>\n",
       "    </tr>\n",
       "  </tbody>\n",
       "</table>\n",
       "</div>"
      ],
      "text/plain": [
       "            Consumption\n",
       "Date                   \n",
       "2006-01-01     1069.184\n",
       "2006-01-02     1380.521\n",
       "2006-01-03     1442.533\n",
       "2006-01-04     1457.217\n",
       "2006-01-05     1477.131"
      ]
     },
     "execution_count": 51,
     "metadata": {},
     "output_type": "execute_result"
    }
   ],
   "source": [
    "df = pd.read_csv('../data/OPSD_Germany_consumption.csv',\n",
    "                 parse_dates=True,\n",
    "                 index_col='Date')\n",
    "df.head()"
   ]
  },
  {
   "cell_type": "code",
   "execution_count": 52,
   "metadata": {},
   "outputs": [
    {
     "name": "stdout",
     "output_type": "stream",
     "text": [
      "<class 'pandas.core.frame.DataFrame'>\n",
      "DatetimeIndex: 4383 entries, 2006-01-01 to 2017-12-31\n",
      "Data columns (total 1 columns):\n",
      "Consumption    4383 non-null float64\n",
      "dtypes: float64(1)\n",
      "memory usage: 68.5 KB\n"
     ]
    }
   ],
   "source": [
    "df.info()"
   ]
  },
  {
   "cell_type": "markdown",
   "metadata": {},
   "source": [
    "**Recap**: abbiamo caricato un dataset, imponendo la colonna Data come indice temporale.\n",
    "\n",
    "Adesso che ai record del datataframe è associato un riferimento temporale, possiamo accedervi in modo comodo. Supponiamo di voler sapere il consumo elettrico di Natale 2015."
   ]
  },
  {
   "cell_type": "code",
   "execution_count": 66,
   "metadata": {},
   "outputs": [
    {
     "data": {
      "text/plain": [
       "Consumption    1121.944\n",
       "Wind            450.484\n",
       "Solar            36.870\n",
       "Name: 2015-12-24 00:00:00, dtype: float64"
      ]
     },
     "execution_count": 66,
     "metadata": {},
     "output_type": "execute_result"
    }
   ],
   "source": [
    "df.loc['2015-12-24']"
   ]
  },
  {
   "cell_type": "markdown",
   "metadata": {},
   "source": [
    "Resta valido l'automatismo nel riconoscimento dei vari formati di data."
   ]
  },
  {
   "cell_type": "code",
   "execution_count": 54,
   "metadata": {},
   "outputs": [
    {
     "data": {
      "text/plain": [
       "Consumption    1121.944\n",
       "Name: 2015-12-24 00:00:00, dtype: float64"
      ]
     },
     "execution_count": 54,
     "metadata": {},
     "output_type": "execute_result"
    }
   ],
   "source": [
    "df.loc['Dec 24 2015']"
   ]
  },
  {
   "cell_type": "markdown",
   "metadata": {},
   "source": [
    "Vogliamo confrontare questo dato con la sua media mensile. Un modo per estrarre il mese di dicembre 2015 è attraverso lo *string indexing*, simile all'indicizzazione NumPy. Attenzione: entrambi gli estremi dell'indicizzazione sono inclusi nel risultato."
   ]
  },
  {
   "cell_type": "code",
   "execution_count": 67,
   "metadata": {},
   "outputs": [
    {
     "data": {
      "text/html": [
       "<div>\n",
       "<style scoped>\n",
       "    .dataframe tbody tr th:only-of-type {\n",
       "        vertical-align: middle;\n",
       "    }\n",
       "\n",
       "    .dataframe tbody tr th {\n",
       "        vertical-align: top;\n",
       "    }\n",
       "\n",
       "    .dataframe thead th {\n",
       "        text-align: right;\n",
       "    }\n",
       "</style>\n",
       "<table border=\"1\" class=\"dataframe\">\n",
       "  <thead>\n",
       "    <tr style=\"text-align: right;\">\n",
       "      <th></th>\n",
       "      <th>Consumption</th>\n",
       "      <th>Wind</th>\n",
       "      <th>Solar</th>\n",
       "    </tr>\n",
       "    <tr>\n",
       "      <th>Date</th>\n",
       "      <th></th>\n",
       "      <th></th>\n",
       "      <th></th>\n",
       "    </tr>\n",
       "  </thead>\n",
       "  <tbody>\n",
       "    <tr>\n",
       "      <th>2015-12-01</th>\n",
       "      <td>1588.021</td>\n",
       "      <td>402.695</td>\n",
       "      <td>14.229</td>\n",
       "    </tr>\n",
       "    <tr>\n",
       "      <th>2015-12-02</th>\n",
       "      <td>1585.308</td>\n",
       "      <td>344.001</td>\n",
       "      <td>11.218</td>\n",
       "    </tr>\n",
       "    <tr>\n",
       "      <th>2015-12-03</th>\n",
       "      <td>1577.457</td>\n",
       "      <td>279.523</td>\n",
       "      <td>32.060</td>\n",
       "    </tr>\n",
       "    <tr>\n",
       "      <th>2015-12-04</th>\n",
       "      <td>1570.318</td>\n",
       "      <td>509.941</td>\n",
       "      <td>18.361</td>\n",
       "    </tr>\n",
       "    <tr>\n",
       "      <th>2015-12-05</th>\n",
       "      <td>1337.095</td>\n",
       "      <td>584.727</td>\n",
       "      <td>37.127</td>\n",
       "    </tr>\n",
       "    <tr>\n",
       "      <th>2015-12-06</th>\n",
       "      <td>1232.073</td>\n",
       "      <td>589.627</td>\n",
       "      <td>39.065</td>\n",
       "    </tr>\n",
       "    <tr>\n",
       "      <th>2015-12-07</th>\n",
       "      <td>1536.251</td>\n",
       "      <td>115.882</td>\n",
       "      <td>37.847</td>\n",
       "    </tr>\n",
       "    <tr>\n",
       "      <th>2015-12-08</th>\n",
       "      <td>1572.740</td>\n",
       "      <td>216.441</td>\n",
       "      <td>42.705</td>\n",
       "    </tr>\n",
       "    <tr>\n",
       "      <th>2015-12-09</th>\n",
       "      <td>1586.393</td>\n",
       "      <td>279.995</td>\n",
       "      <td>21.606</td>\n",
       "    </tr>\n",
       "    <tr>\n",
       "      <th>2015-12-10</th>\n",
       "      <td>1596.593</td>\n",
       "      <td>383.741</td>\n",
       "      <td>38.635</td>\n",
       "    </tr>\n",
       "    <tr>\n",
       "      <th>2015-12-11</th>\n",
       "      <td>1578.220</td>\n",
       "      <td>519.489</td>\n",
       "      <td>21.611</td>\n",
       "    </tr>\n",
       "    <tr>\n",
       "      <th>2015-12-12</th>\n",
       "      <td>1334.376</td>\n",
       "      <td>422.251</td>\n",
       "      <td>25.051</td>\n",
       "    </tr>\n",
       "    <tr>\n",
       "      <th>2015-12-13</th>\n",
       "      <td>1242.101</td>\n",
       "      <td>288.095</td>\n",
       "      <td>23.287</td>\n",
       "    </tr>\n",
       "    <tr>\n",
       "      <th>2015-12-14</th>\n",
       "      <td>1554.947</td>\n",
       "      <td>110.012</td>\n",
       "      <td>27.409</td>\n",
       "    </tr>\n",
       "    <tr>\n",
       "      <th>2015-12-15</th>\n",
       "      <td>1567.900</td>\n",
       "      <td>81.591</td>\n",
       "      <td>18.892</td>\n",
       "    </tr>\n",
       "    <tr>\n",
       "      <th>2015-12-16</th>\n",
       "      <td>1562.404</td>\n",
       "      <td>253.007</td>\n",
       "      <td>11.903</td>\n",
       "    </tr>\n",
       "    <tr>\n",
       "      <th>2015-12-17</th>\n",
       "      <td>1512.095</td>\n",
       "      <td>348.145</td>\n",
       "      <td>14.895</td>\n",
       "    </tr>\n",
       "    <tr>\n",
       "      <th>2015-12-18</th>\n",
       "      <td>1462.443</td>\n",
       "      <td>328.025</td>\n",
       "      <td>13.020</td>\n",
       "    </tr>\n",
       "    <tr>\n",
       "      <th>2015-12-19</th>\n",
       "      <td>1255.073</td>\n",
       "      <td>315.386</td>\n",
       "      <td>28.491</td>\n",
       "    </tr>\n",
       "    <tr>\n",
       "      <th>2015-12-20</th>\n",
       "      <td>1165.159</td>\n",
       "      <td>370.892</td>\n",
       "      <td>31.769</td>\n",
       "    </tr>\n",
       "    <tr>\n",
       "      <th>2015-12-21</th>\n",
       "      <td>1396.454</td>\n",
       "      <td>583.385</td>\n",
       "      <td>13.837</td>\n",
       "    </tr>\n",
       "    <tr>\n",
       "      <th>2015-12-22</th>\n",
       "      <td>1379.031</td>\n",
       "      <td>636.047</td>\n",
       "      <td>26.537</td>\n",
       "    </tr>\n",
       "    <tr>\n",
       "      <th>2015-12-23</th>\n",
       "      <td>1312.974</td>\n",
       "      <td>552.049</td>\n",
       "      <td>28.189</td>\n",
       "    </tr>\n",
       "    <tr>\n",
       "      <th>2015-12-24</th>\n",
       "      <td>1121.944</td>\n",
       "      <td>450.484</td>\n",
       "      <td>36.870</td>\n",
       "    </tr>\n",
       "    <tr>\n",
       "      <th>2015-12-25</th>\n",
       "      <td>1047.277</td>\n",
       "      <td>420.504</td>\n",
       "      <td>32.053</td>\n",
       "    </tr>\n",
       "    <tr>\n",
       "      <th>2015-12-26</th>\n",
       "      <td>1049.349</td>\n",
       "      <td>608.375</td>\n",
       "      <td>43.838</td>\n",
       "    </tr>\n",
       "    <tr>\n",
       "      <th>2015-12-27</th>\n",
       "      <td>1068.214</td>\n",
       "      <td>440.394</td>\n",
       "      <td>38.625</td>\n",
       "    </tr>\n",
       "    <tr>\n",
       "      <th>2015-12-28</th>\n",
       "      <td>1219.075</td>\n",
       "      <td>206.191</td>\n",
       "      <td>41.696</td>\n",
       "    </tr>\n",
       "    <tr>\n",
       "      <th>2015-12-29</th>\n",
       "      <td>1233.660</td>\n",
       "      <td>305.635</td>\n",
       "      <td>32.625</td>\n",
       "    </tr>\n",
       "    <tr>\n",
       "      <th>2015-12-30</th>\n",
       "      <td>1238.863</td>\n",
       "      <td>365.176</td>\n",
       "      <td>27.270</td>\n",
       "    </tr>\n",
       "    <tr>\n",
       "      <th>2015-12-31</th>\n",
       "      <td>1158.103</td>\n",
       "      <td>358.330</td>\n",
       "      <td>20.226</td>\n",
       "    </tr>\n",
       "  </tbody>\n",
       "</table>\n",
       "</div>"
      ],
      "text/plain": [
       "            Consumption     Wind   Solar\n",
       "Date                                    \n",
       "2015-12-01     1588.021  402.695  14.229\n",
       "2015-12-02     1585.308  344.001  11.218\n",
       "2015-12-03     1577.457  279.523  32.060\n",
       "2015-12-04     1570.318  509.941  18.361\n",
       "2015-12-05     1337.095  584.727  37.127\n",
       "2015-12-06     1232.073  589.627  39.065\n",
       "2015-12-07     1536.251  115.882  37.847\n",
       "2015-12-08     1572.740  216.441  42.705\n",
       "2015-12-09     1586.393  279.995  21.606\n",
       "2015-12-10     1596.593  383.741  38.635\n",
       "2015-12-11     1578.220  519.489  21.611\n",
       "2015-12-12     1334.376  422.251  25.051\n",
       "2015-12-13     1242.101  288.095  23.287\n",
       "2015-12-14     1554.947  110.012  27.409\n",
       "2015-12-15     1567.900   81.591  18.892\n",
       "2015-12-16     1562.404  253.007  11.903\n",
       "2015-12-17     1512.095  348.145  14.895\n",
       "2015-12-18     1462.443  328.025  13.020\n",
       "2015-12-19     1255.073  315.386  28.491\n",
       "2015-12-20     1165.159  370.892  31.769\n",
       "2015-12-21     1396.454  583.385  13.837\n",
       "2015-12-22     1379.031  636.047  26.537\n",
       "2015-12-23     1312.974  552.049  28.189\n",
       "2015-12-24     1121.944  450.484  36.870\n",
       "2015-12-25     1047.277  420.504  32.053\n",
       "2015-12-26     1049.349  608.375  43.838\n",
       "2015-12-27     1068.214  440.394  38.625\n",
       "2015-12-28     1219.075  206.191  41.696\n",
       "2015-12-29     1233.660  305.635  32.625\n",
       "2015-12-30     1238.863  365.176  27.270\n",
       "2015-12-31     1158.103  358.330  20.226"
      ]
     },
     "execution_count": 67,
     "metadata": {},
     "output_type": "execute_result"
    }
   ],
   "source": [
    "df['2015-12-1':'2015-12-31']"
   ]
  },
  {
   "cell_type": "markdown",
   "metadata": {},
   "source": [
    "Una tecnica alternativa è il *partial-string indexing*, disponibile con l'indicizzazione temporale. Specificando mese e anno, estraiamo i soli record di dicembre 2015."
   ]
  },
  {
   "cell_type": "code",
   "execution_count": 69,
   "metadata": {},
   "outputs": [
    {
     "data": {
      "text/html": [
       "<div>\n",
       "<style scoped>\n",
       "    .dataframe tbody tr th:only-of-type {\n",
       "        vertical-align: middle;\n",
       "    }\n",
       "\n",
       "    .dataframe tbody tr th {\n",
       "        vertical-align: top;\n",
       "    }\n",
       "\n",
       "    .dataframe thead th {\n",
       "        text-align: right;\n",
       "    }\n",
       "</style>\n",
       "<table border=\"1\" class=\"dataframe\">\n",
       "  <thead>\n",
       "    <tr style=\"text-align: right;\">\n",
       "      <th></th>\n",
       "      <th>Consumption</th>\n",
       "      <th>Wind</th>\n",
       "      <th>Solar</th>\n",
       "    </tr>\n",
       "    <tr>\n",
       "      <th>Date</th>\n",
       "      <th></th>\n",
       "      <th></th>\n",
       "      <th></th>\n",
       "    </tr>\n",
       "  </thead>\n",
       "  <tbody>\n",
       "    <tr>\n",
       "      <th>2015-12-01</th>\n",
       "      <td>1588.021</td>\n",
       "      <td>402.695</td>\n",
       "      <td>14.229</td>\n",
       "    </tr>\n",
       "    <tr>\n",
       "      <th>2015-12-02</th>\n",
       "      <td>1585.308</td>\n",
       "      <td>344.001</td>\n",
       "      <td>11.218</td>\n",
       "    </tr>\n",
       "    <tr>\n",
       "      <th>2015-12-03</th>\n",
       "      <td>1577.457</td>\n",
       "      <td>279.523</td>\n",
       "      <td>32.060</td>\n",
       "    </tr>\n",
       "    <tr>\n",
       "      <th>2015-12-04</th>\n",
       "      <td>1570.318</td>\n",
       "      <td>509.941</td>\n",
       "      <td>18.361</td>\n",
       "    </tr>\n",
       "    <tr>\n",
       "      <th>2015-12-05</th>\n",
       "      <td>1337.095</td>\n",
       "      <td>584.727</td>\n",
       "      <td>37.127</td>\n",
       "    </tr>\n",
       "    <tr>\n",
       "      <th>2015-12-06</th>\n",
       "      <td>1232.073</td>\n",
       "      <td>589.627</td>\n",
       "      <td>39.065</td>\n",
       "    </tr>\n",
       "    <tr>\n",
       "      <th>2015-12-07</th>\n",
       "      <td>1536.251</td>\n",
       "      <td>115.882</td>\n",
       "      <td>37.847</td>\n",
       "    </tr>\n",
       "    <tr>\n",
       "      <th>2015-12-08</th>\n",
       "      <td>1572.740</td>\n",
       "      <td>216.441</td>\n",
       "      <td>42.705</td>\n",
       "    </tr>\n",
       "    <tr>\n",
       "      <th>2015-12-09</th>\n",
       "      <td>1586.393</td>\n",
       "      <td>279.995</td>\n",
       "      <td>21.606</td>\n",
       "    </tr>\n",
       "    <tr>\n",
       "      <th>2015-12-10</th>\n",
       "      <td>1596.593</td>\n",
       "      <td>383.741</td>\n",
       "      <td>38.635</td>\n",
       "    </tr>\n",
       "    <tr>\n",
       "      <th>2015-12-11</th>\n",
       "      <td>1578.220</td>\n",
       "      <td>519.489</td>\n",
       "      <td>21.611</td>\n",
       "    </tr>\n",
       "    <tr>\n",
       "      <th>2015-12-12</th>\n",
       "      <td>1334.376</td>\n",
       "      <td>422.251</td>\n",
       "      <td>25.051</td>\n",
       "    </tr>\n",
       "    <tr>\n",
       "      <th>2015-12-13</th>\n",
       "      <td>1242.101</td>\n",
       "      <td>288.095</td>\n",
       "      <td>23.287</td>\n",
       "    </tr>\n",
       "    <tr>\n",
       "      <th>2015-12-14</th>\n",
       "      <td>1554.947</td>\n",
       "      <td>110.012</td>\n",
       "      <td>27.409</td>\n",
       "    </tr>\n",
       "    <tr>\n",
       "      <th>2015-12-15</th>\n",
       "      <td>1567.900</td>\n",
       "      <td>81.591</td>\n",
       "      <td>18.892</td>\n",
       "    </tr>\n",
       "    <tr>\n",
       "      <th>2015-12-16</th>\n",
       "      <td>1562.404</td>\n",
       "      <td>253.007</td>\n",
       "      <td>11.903</td>\n",
       "    </tr>\n",
       "    <tr>\n",
       "      <th>2015-12-17</th>\n",
       "      <td>1512.095</td>\n",
       "      <td>348.145</td>\n",
       "      <td>14.895</td>\n",
       "    </tr>\n",
       "    <tr>\n",
       "      <th>2015-12-18</th>\n",
       "      <td>1462.443</td>\n",
       "      <td>328.025</td>\n",
       "      <td>13.020</td>\n",
       "    </tr>\n",
       "    <tr>\n",
       "      <th>2015-12-19</th>\n",
       "      <td>1255.073</td>\n",
       "      <td>315.386</td>\n",
       "      <td>28.491</td>\n",
       "    </tr>\n",
       "    <tr>\n",
       "      <th>2015-12-20</th>\n",
       "      <td>1165.159</td>\n",
       "      <td>370.892</td>\n",
       "      <td>31.769</td>\n",
       "    </tr>\n",
       "    <tr>\n",
       "      <th>2015-12-21</th>\n",
       "      <td>1396.454</td>\n",
       "      <td>583.385</td>\n",
       "      <td>13.837</td>\n",
       "    </tr>\n",
       "    <tr>\n",
       "      <th>2015-12-22</th>\n",
       "      <td>1379.031</td>\n",
       "      <td>636.047</td>\n",
       "      <td>26.537</td>\n",
       "    </tr>\n",
       "    <tr>\n",
       "      <th>2015-12-23</th>\n",
       "      <td>1312.974</td>\n",
       "      <td>552.049</td>\n",
       "      <td>28.189</td>\n",
       "    </tr>\n",
       "    <tr>\n",
       "      <th>2015-12-24</th>\n",
       "      <td>1121.944</td>\n",
       "      <td>450.484</td>\n",
       "      <td>36.870</td>\n",
       "    </tr>\n",
       "    <tr>\n",
       "      <th>2015-12-25</th>\n",
       "      <td>1047.277</td>\n",
       "      <td>420.504</td>\n",
       "      <td>32.053</td>\n",
       "    </tr>\n",
       "    <tr>\n",
       "      <th>2015-12-26</th>\n",
       "      <td>1049.349</td>\n",
       "      <td>608.375</td>\n",
       "      <td>43.838</td>\n",
       "    </tr>\n",
       "    <tr>\n",
       "      <th>2015-12-27</th>\n",
       "      <td>1068.214</td>\n",
       "      <td>440.394</td>\n",
       "      <td>38.625</td>\n",
       "    </tr>\n",
       "    <tr>\n",
       "      <th>2015-12-28</th>\n",
       "      <td>1219.075</td>\n",
       "      <td>206.191</td>\n",
       "      <td>41.696</td>\n",
       "    </tr>\n",
       "    <tr>\n",
       "      <th>2015-12-29</th>\n",
       "      <td>1233.660</td>\n",
       "      <td>305.635</td>\n",
       "      <td>32.625</td>\n",
       "    </tr>\n",
       "    <tr>\n",
       "      <th>2015-12-30</th>\n",
       "      <td>1238.863</td>\n",
       "      <td>365.176</td>\n",
       "      <td>27.270</td>\n",
       "    </tr>\n",
       "    <tr>\n",
       "      <th>2015-12-31</th>\n",
       "      <td>1158.103</td>\n",
       "      <td>358.330</td>\n",
       "      <td>20.226</td>\n",
       "    </tr>\n",
       "  </tbody>\n",
       "</table>\n",
       "</div>"
      ],
      "text/plain": [
       "            Consumption     Wind   Solar\n",
       "Date                                    \n",
       "2015-12-01     1588.021  402.695  14.229\n",
       "2015-12-02     1585.308  344.001  11.218\n",
       "2015-12-03     1577.457  279.523  32.060\n",
       "2015-12-04     1570.318  509.941  18.361\n",
       "2015-12-05     1337.095  584.727  37.127\n",
       "2015-12-06     1232.073  589.627  39.065\n",
       "2015-12-07     1536.251  115.882  37.847\n",
       "2015-12-08     1572.740  216.441  42.705\n",
       "2015-12-09     1586.393  279.995  21.606\n",
       "2015-12-10     1596.593  383.741  38.635\n",
       "2015-12-11     1578.220  519.489  21.611\n",
       "2015-12-12     1334.376  422.251  25.051\n",
       "2015-12-13     1242.101  288.095  23.287\n",
       "2015-12-14     1554.947  110.012  27.409\n",
       "2015-12-15     1567.900   81.591  18.892\n",
       "2015-12-16     1562.404  253.007  11.903\n",
       "2015-12-17     1512.095  348.145  14.895\n",
       "2015-12-18     1462.443  328.025  13.020\n",
       "2015-12-19     1255.073  315.386  28.491\n",
       "2015-12-20     1165.159  370.892  31.769\n",
       "2015-12-21     1396.454  583.385  13.837\n",
       "2015-12-22     1379.031  636.047  26.537\n",
       "2015-12-23     1312.974  552.049  28.189\n",
       "2015-12-24     1121.944  450.484  36.870\n",
       "2015-12-25     1047.277  420.504  32.053\n",
       "2015-12-26     1049.349  608.375  43.838\n",
       "2015-12-27     1068.214  440.394  38.625\n",
       "2015-12-28     1219.075  206.191  41.696\n",
       "2015-12-29     1233.660  305.635  32.625\n",
       "2015-12-30     1238.863  365.176  27.270\n",
       "2015-12-31     1158.103  358.330  20.226"
      ]
     },
     "execution_count": 69,
     "metadata": {},
     "output_type": "execute_result"
    }
   ],
   "source": [
    "df['2015-12']"
   ]
  },
  {
   "cell_type": "markdown",
   "metadata": {},
   "source": [
    "Ed ecco il consumo medio di dicembre 2015."
   ]
  },
  {
   "cell_type": "code",
   "execution_count": 72,
   "metadata": {},
   "outputs": [
    {
     "data": {
      "text/plain": [
       "Consumption    1384.286474\n",
       "Wind            212.243819\n",
       "Solar            95.635995\n",
       "dtype: float64"
      ]
     },
     "execution_count": 72,
     "metadata": {},
     "output_type": "execute_result"
    }
   ],
   "source": [
    "df['2015'].mean()"
   ]
  },
  {
   "cell_type": "markdown",
   "metadata": {},
   "source": [
    "Esercizio 1.1\n",
    "---\n",
    "\n",
    "Il dataset **OPSD_Germany_all** contiene, oltre al consumo, la produzioni di energia eolica e solare.\n",
    "\n",
    "- Caricare il dataset in formato dataframe, usando la colonna Data come indice temporale;\n",
    "- i dati sul consumo di energia rinnovabile sono disponibili dal 1 gennaio 2012; selezionare, dal dataframe, solo i record posteriori a tale data (compresa);\n",
    "- costruire la colonna *Renewable* come somma delle produzioni eolica e solare;\n",
    "- calcolare il rapporto tra\n",
    "    - a) la produzione rinnovabile totale di settembre 2014 e\n",
    "    - b) il consumo totale dello stesso mese;\n",
    "- sfruttando le proprietà dell'indice Data (**hint**: *weekday_name*), costruire la colonna 'Weekday' contenente, per ogni record, il giorno della settimana (Monday, Tuesday, ...);\n",
    "- costruire la Series *df_sunday_wind* contenente la produzione eolica delle sole domeniche;\n",
    "- calcolare la produzione eolica media domenicale tra gennaio e marzo 2017 (inclusi)."
   ]
  },
  {
   "cell_type": "markdown",
   "metadata": {},
   "source": [
    "---"
   ]
  },
  {
   "cell_type": "markdown",
   "metadata": {},
   "source": [
    "Serie temporali: *analysis* vs *forecast*\n",
    "---\n",
    "\n",
    "Come interviene il concetto di tempo nel machine learning classico? Un modello, una volta addestrato, viene testato sui dati *futuri* via via disponibili. In generale, però, durante l'apprendimento i dati del training set vengono trattati tutti allo stesso modo; non sono cioè ordinati temporalmente.\n",
    "\n",
    "<h3><center><i>Una serie temporale è una sequenza di dati osservati sequenzialmente.</i></center></h3>\n",
    "\n",
    "Rispetto ad un dataset classico di apprendimento aggiunge dipendenza temporale tra i record.\n",
    "\n",
    "Si parla di **analysis** quando siamo interessati a capire e descrivere una serie temporale di dati passati. Questa analisi non è necessariamente mirata alla predizione del futuro. Quando, viceversa, siamo interessati al futuro di una serie temporale (e sfruttiamo il suo passato per fare previsioni), stiamo facendo **forecast**."
   ]
  },
  {
   "cell_type": "markdown",
   "metadata": {},
   "source": [
    "Serie temporali univariate e multivariate\n",
    "---\n",
    "\n",
    "Una serie temporale si dice **univariata** se consiste di una sola variabile osservata sequenzialmente. Si pensi, ad esempio, alle vendite di un certo prodotto o alla temperatura minima giornaliera. Il dataset visto all'inizio della lezione è un altro esempio di serie univariata.\n",
    "\n",
    "<img src='img/uni.png' width=500/>\n",
    "\n",
    "In una serie **multivariata** più quantità variano nel tempo. Si pensi ad un sistema fisico in cui è nota, in ogni istante, la velocità lungo i tre assi coordinati $x$, $y$ e $z$. Il dataset **OPSD_Germany_all** è una serie multivariata.\n",
    "\n",
    "<img src='img/multi.png' width=500/>"
   ]
  },
  {
   "cell_type": "code",
   "execution_count": 87,
   "metadata": {},
   "outputs": [
    {
     "data": {
      "text/plain": [
       "<matplotlib.axes._subplots.AxesSubplot at 0x7faf80664438>"
      ]
     },
     "execution_count": 87,
     "metadata": {},
     "output_type": "execute_result"
    },
    {
     "data": {
      "image/png": "[encoded data removed]",
      "text/plain": [
       "<Figure size 576x216 with 1 Axes>"
      ]
     },
     "metadata": {
      "needs_background": "light"
     },
     "output_type": "display_data"
    }
   ],
   "source": [
    "import seaborn as sns\n",
    "\n",
    "df = pd.read_csv('../data/OPSD_Germany_consumption.csv',\n",
    "                 parse_dates=True,\n",
    "                 index_col='Date')\n",
    "\n",
    "df['2015'].plot(figsize=(8,3))"
   ]
  },
  {
   "cell_type": "code",
   "execution_count": 83,
   "metadata": {},
   "outputs": [
    {
     "data": {
      "text/plain": [
       "<matplotlib.axes._subplots.AxesSubplot at 0x7faf80aae550>"
      ]
     },
     "execution_count": 83,
     "metadata": {},
     "output_type": "execute_result"
    },
    {
     "data": {
      "image/png": "[encoded data removed]",
      "text/plain": [
       "<Figure size 576x216 with 1 Axes>"
      ]
     },
     "metadata": {
      "needs_background": "light"
     },
     "output_type": "display_data"
    }
   ],
   "source": [
    "df = pd.read_csv('../data/OPSD_Germany_all.csv',\n",
    "                 parse_dates=True,\n",
    "                 index_col='Date')\n",
    "\n",
    "df['2015'][['Wind', 'Solar']].plot(figsize=(8,3))"
   ]
  }
 ],
 "metadata": {
  "kernelspec": {
   "display_name": "Python 3",
   "language": "python",
   "name": "python3"
  },
  "language_info": {
   "codemirror_mode": {
    "name": "ipython",
    "version": 3
   },
   "file_extension": ".py",
   "mimetype": "text/x-python",
   "name": "python",
   "nbconvert_exporter": "python",
   "pygments_lexer": "ipython3",
   "version": "3.6.8"
  }
 },
 "nbformat": 4,
 "nbformat_minor": 2
}
